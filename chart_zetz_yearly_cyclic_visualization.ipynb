{
  "nbformat": 4,
  "nbformat_minor": 0,
  "metadata": {
    "colab": {
      "name": "chart zetz",
      "version": "0.3.2",
      "provenance": [],
      "include_colab_link": true
    },
    "kernelspec": {
      "name": "python3",
      "display_name": "Python 3"
    },
    "accelerator": "TPU"
  },
  "cells": [
    {
      "cell_type": "markdown",
      "metadata": {
        "id": "view-in-github",
        "colab_type": "text"
      },
      "source": [
        "<a href=\"https://colab.research.google.com/github/packandsell/AlgoMaschine/blob/master/chart_zetz_yearly_cyclic_visualization.ipynb\" target=\"_parent\"><img src=\"https://colab.research.google.com/assets/colab-badge.svg\" alt=\"Open In Colab\"/></a>"
      ]
    },
    {
      "metadata": {
        "id": "lGGHXcF3hwbF",
        "colab_type": "code",
        "outputId": "9eaa3224-2418-43b6-86e1-d9ce3e6f16c8",
        "colab": {
          "base_uri": "https://localhost:8080/",
          "height": 205
        }
      },
      "cell_type": "code",
      "source": [
        "import matplotlib.pyplot as plt\n",
        "import numpy as np\n",
        "from datetime import datetime, timedelta\n",
        "import pandas as pd\n",
        "\n",
        "# tutorial https://colab.research.google.com/github/jakevdp/PythonDataScienceHandbook/blob/master/notebooks/04.00-Introduction-To-Matplotlib.ipynb#scrollTo=AuKBYgIn4Hmm\n",
        "\n",
        "\n",
        "\n",
        "files = [\"new_zetz_EURGBP1.csv\",\"new_zetz_GBPAUD1.csv\",\"new_zetz_GBPCAD1.csv\",\"new_zetz_GBPCHF1.csv\",\"new_zetz_GBPJPY1.csv\",\"new_zetz_GBPNZD1.csv\",\"new_zetz_GBPUSD1.csv\"]\n",
        "\n",
        "#_dat    = np.genfromtxt(filename, delimiter=',', encoding=\"utf-8\", dtype=float, skip_header=False,   usecols = (0))\n",
        "#_z      = np.genfromtxt(filename, delimiter=',', encoding=\"utf-8\", dtype=float, skip_header=False,   usecols = (1))\n",
        "#_close  = np.genfromtxt(filename, delimiter=',', encoding=\"utf-8\", dtype=timestamp, skip_header=False,   usecols = (2))\n",
        "\n",
        "\n",
        "#frame=pd.read_table(filename, header=None, skiprows=22,delimiter=',') \n",
        "#print(frame)\n",
        "#plt.plot(frame[1][300:20*6])\n",
        "#plt.plot(_z)\n",
        "\n",
        "\n",
        "\n",
        "series = []\n",
        "longest_index = 0\n",
        "longest_size = 0\n",
        "for f in files:\n",
        "  s = np.genfromtxt(f, delimiter=',', encoding=\"utf-8\", dtype=str, skip_header=False,  usecols = (0,1,2,))\n",
        "  series.append([f,s])\n",
        "  if ( len(s)>longest_size ):\n",
        "      longest_index = len(series)-1\n",
        "      longest_size = len(s)\n",
        "\n",
        "for s in series:\n",
        "   print(s[0], len(s[1]))\n",
        " \n",
        "print(\"longest\",series[longest_index][0] )\n",
        "# now we take years from the longest data series\n",
        "# the number of years will be the number of our data-series per 1 file aka instrument\n",
        "\n",
        "years = []\n",
        "for d in series[longest_index][1]:\n",
        "  dt = datetime.strptime(d[0], \"%Y-%m-%d %H:%M:%S\")\n",
        "  year = dt.year\n",
        "  if (year in years): continue\n",
        "  years.append(year) \n",
        "\n",
        "print(years)\n",
        "days = range(1,31,1)\n",
        "\n",
        "# this is our number of curves to create\n",
        "lines = len(years) \n",
        "chart_title = \"\"\n",
        "for n in (series[longest_index][0]).split(\"_\"):\n",
        "  if \"1\" in n:\n",
        "    chart_title=n.replace(\"1.csv\",\"\")\n",
        "    print(chart_title)\n",
        "    break\n",
        "\n",
        "\n",
        "# test to create number of curves for 1 instrument\n",
        "# then do the same for every instrument and print them\n",
        "    \n",
        "    \n",
        "#plt.show()"
      ],
      "execution_count": 18,
      "outputs": [
        {
          "output_type": "stream",
          "text": [
            "new_zetz_EURGBP1.csv 2326\n",
            "new_zetz_GBPAUD1.csv 1421\n",
            "new_zetz_GBPCAD1.csv 1423\n",
            "new_zetz_GBPCHF1.csv 2359\n",
            "new_zetz_GBPJPY1.csv 2358\n",
            "new_zetz_GBPNZD1.csv 957\n",
            "new_zetz_GBPUSD1.csv 1317\n",
            "longest new_zetz_GBPCHF1.csv\n",
            "[1999, 2000, 2001, 2002, 2003, 2004, 2005, 2006, 2007, 2008, 2009, 2010, 2011, 2012, 2013, 2014, 2015, 2016, 2017, 2018, 2019]\n",
            "GBPCHF\n"
          ],
          "name": "stdout"
        }
      ]
    }
  ]
}